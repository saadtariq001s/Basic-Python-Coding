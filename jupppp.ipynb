{
 "cells": [
  {
   "cell_type": "code",
   "execution_count": 29,
   "metadata": {},
   "outputs": [
    {
     "name": "stdout",
     "output_type": "stream",
     "text": [
      "1.8\n"
     ]
    }
   ],
   "source": [
    "print(9/5)\n"
   ]
  },
  {
   "cell_type": "code",
   "execution_count": 30,
   "metadata": {},
   "outputs": [
    {
     "name": "stdout",
     "output_type": "stream",
     "text": [
      "81\n"
     ]
    }
   ],
   "source": [
    "y = 9\n",
    "x = 9\n",
    "u = x*y\n",
    "print(str(u))\n"
   ]
  },
  {
   "cell_type": "code",
   "execution_count": 31,
   "metadata": {},
   "outputs": [
    {
     "ename": "ValueError",
     "evalue": "invalid literal for int() with base 10: 'x'",
     "output_type": "error",
     "traceback": [
      "\u001b[1;31m---------------------------------------------------------------------------\u001b[0m",
      "\u001b[1;31mValueError\u001b[0m                                Traceback (most recent call last)",
      "Cell \u001b[1;32mIn [31], line 1\u001b[0m\n\u001b[1;32m----> 1\u001b[0m x \u001b[38;5;241m=\u001b[39m \u001b[38;5;28;43mint\u001b[39;49m\u001b[43m(\u001b[49m\u001b[38;5;28;43minput\u001b[39;49m\u001b[43m(\u001b[49m\u001b[38;5;124;43m\"\u001b[39;49m\u001b[38;5;124;43mdaalo yaar koi number\u001b[39;49m\u001b[38;5;124;43m\"\u001b[39;49m\u001b[43m)\u001b[49m\u001b[43m)\u001b[49m\n\u001b[0;32m      2\u001b[0m \u001b[38;5;28;01mif\u001b[39;00m x\u001b[38;5;241m==\u001b[39m\u001b[38;5;241m6\u001b[39m:\n\u001b[0;32m      3\u001b[0m   \u001b[38;5;28mprint\u001b[39m(\u001b[38;5;124m\"\u001b[39m\u001b[38;5;124mchakka mardiya\u001b[39m\u001b[38;5;124m\"\u001b[39m)\n",
      "\u001b[1;31mValueError\u001b[0m: invalid literal for int() with base 10: 'x'"
     ]
    }
   ],
   "source": [
    "x = int(input(\"daalo yaar koi number\"))\n",
    "if x==6:\n",
    "  print(\"chakka mardiya\")\n",
    "elif x==4:\n",
    "  print(\"chaukkka maaraaa\")   \n",
    "print(\"end\")  \n",
    "\n"
   ]
  },
  {
   "cell_type": "code",
   "execution_count": 39,
   "metadata": {},
   "outputs": [],
   "source": [
    "x = int(input(\"Enter a number\"))\n",
    "try:\n",
    "    if x == 8:\n",
    "        print(\"ans is \", x)\n",
    "except:\n",
    "    print(\"8888888\")    "
   ]
  },
  {
   "cell_type": "code",
   "execution_count": 41,
   "metadata": {},
   "outputs": [
    {
     "name": "stdout",
     "output_type": "stream",
     "text": [
      "990\n"
     ]
    }
   ],
   "source": [
    "def saad(x,y):\n",
    "    if x>y:\n",
    "        return x-y\n",
    "    else:\n",
    "        return y-x\n",
    "\n",
    "diff = saad(999,9)            \n",
    "print (diff)\n"
   ]
  },
  {
   "cell_type": "code",
   "execution_count": 47,
   "metadata": {},
   "outputs": [
    {
     "name": "stdout",
     "output_type": "stream",
     "text": [
      " \n"
     ]
    }
   ],
   "source": [
    "big = min(\" argument\")\n",
    "print(big)"
   ]
  },
  {
   "cell_type": "code",
   "execution_count": 52,
   "metadata": {},
   "outputs": [
    {
     "name": "stdout",
     "output_type": "stream",
     "text": [
      "65\n"
     ]
    }
   ],
   "source": [
    "largest = -1\n",
    "for i in [5,4,3,2,1,7,9,65,4]:\n",
    "    if i>largest:\n",
    "        largest=i\n",
    "print(largest)        \n"
   ]
  },
  {
   "cell_type": "code",
   "execution_count": 56,
   "metadata": {},
   "outputs": [
    {
     "name": "stdout",
     "output_type": "stream",
     "text": [
      "14\n",
      "m\n",
      "Areeba \n",
      "Areeba \n",
      "jamshed\n",
      "Areeba jamshed\n",
      "5\n",
      "Areeba jamshed\n",
      "areeba jamshed\n",
      "AREEBA JAMSHED\n",
      "Areeba Saad\n"
     ]
    }
   ],
   "source": [
    "str = 'Areeba jamshed'\n",
    "print(len(str))\n",
    "print(str[9])\n",
    "print(str[0:7])\n",
    "print(str[:7])\n",
    "print(str[7:])\n",
    "print(str[:])\n",
    "print(str.find(\"a\"))\n",
    "print(str.capitalize())\n",
    "print(str.lower())\n",
    "print(str.upper())\n",
    "print(str.replace(\"jamshed\", \"Saad\"))"
   ]
  },
  {
   "cell_type": "code",
   "execution_count": 64,
   "metadata": {},
   "outputs": [
    {
     "name": "stdout",
     "output_type": "stream",
     "text": [
      "Areeba Saad\n",
      "Areeba Saad\n",
      "Areeba Saad\n"
     ]
    },
    {
     "data": {
      "text/plain": [
       "False"
      ]
     },
     "execution_count": 64,
     "metadata": {},
     "output_type": "execute_result"
    }
   ],
   "source": [
    "str = \"Areeba Saad\"\n",
    "print(str.lstrip(\"a\"))\n",
    "print(str.rstrip(\"S\"))\n",
    "print(str.strip(\"S\"))\n",
    "str.startswith(\"a\")"
   ]
  },
  {
   "cell_type": "code",
   "execution_count": 74,
   "metadata": {},
   "outputs": [
    {
     "name": "stdout",
     "output_type": "stream",
     "text": [
      "Areeba what is wrong with youuuuuuuu \n",
      "\n",
      "Idk what is wrong with you \n",
      "\n",
      "stay alone if you want\n",
      "0\n"
     ]
    }
   ],
   "source": [
    "file = open(\"file.txt\",\"w\")\n",
    "file.write(\"Areeba what is wrong with youuuuuuuu \\nIdk what is wrong with you \\nstay alone if you want\")\n",
    "file.close()\n",
    "\n",
    "x = open(\"file.txt\")\n",
    "for cheese in x:\n",
    "    print(cheese)\n",
    "\n",
    "\n",
    "y = x.read()\n",
    "print(len(y))    "
   ]
  },
  {
   "cell_type": "code",
   "execution_count": 90,
   "metadata": {},
   "outputs": [
    {
     "name": "stdout",
     "output_type": "stream",
     "text": [
      "['books', 'nerds', 'boys', 'girls', 8, 4, 90, 78, 43, 61]\n",
      "None\n"
     ]
    }
   ],
   "source": [
    "san =[]\n",
    "san.append(\"books\")\n",
    "san.append(\"nerds\")\n",
    "san.append(\"boys\")\n",
    "san.append(\"girls\")\n",
    "\n",
    "ban=[]\n",
    "ban.append(int(8))\n",
    "ban.append(int(4))\n",
    "ban.append(int(90))\n",
    "ban.append(int(78))\n",
    "ban.append(int(43))\n",
    "ban.append(int(61))\n",
    "\n",
    "y = print(san+ban)\n",
    "\n",
    "\n",
    "\n"
   ]
  }
 ],
 "metadata": {
  "kernelspec": {
   "display_name": "Python 3.10.6 64-bit",
   "language": "python",
   "name": "python3"
  },
  "language_info": {
   "codemirror_mode": {
    "name": "ipython",
    "version": 3
   },
   "file_extension": ".py",
   "mimetype": "text/x-python",
   "name": "python",
   "nbconvert_exporter": "python",
   "pygments_lexer": "ipython3",
   "version": "3.10.6"
  },
  "orig_nbformat": 4,
  "vscode": {
   "interpreter": {
    "hash": "332a271619be57b038da3cc531cc54c1886e2da89d5e4aaafc10ca8d51c9d6d0"
   }
  }
 },
 "nbformat": 4,
 "nbformat_minor": 2
}
